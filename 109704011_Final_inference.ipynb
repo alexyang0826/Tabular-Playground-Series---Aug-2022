{
 "cells": [
  {
   "cell_type": "code",
   "execution_count": 33,
   "outputs": [],
   "source": [
    "import pandas as pd\n",
    "import numpy as np\n",
    "from sklearn.impute import SimpleImputer\n",
    "from sklearn.preprocessing import LabelEncoder\n",
    "import torch.nn as nn\n",
    "import copy\n",
    "import torch\n",
    "from torch.utils.data import Dataset, DataLoader\n",
    "import time\n",
    "from tqdm import tqdm\n",
    "device = torch.device(\"cuda:0\" if torch.cuda.is_available() else \"cpu\")\n",
    "start_time = time.time()"
   ],
   "metadata": {
    "collapsed": false
   }
  },
  {
   "cell_type": "markdown",
   "source": [
    "## PATH\n",
    "change path to yours"
   ],
   "metadata": {
    "collapsed": false
   }
  },
  {
   "cell_type": "code",
   "execution_count": 34,
   "outputs": [],
   "source": [
    "MODEL_PATH = './models/model.pt'\n",
    "TEST_PATH = './test.csv'"
   ],
   "metadata": {
    "collapsed": false
   }
  },
  {
   "cell_type": "code",
   "execution_count": 35,
   "outputs": [],
   "source": [
    "class Model(nn.Module):\n",
    "    def __init__(self, input_shape):\n",
    "        super().__init__()\n",
    "        self.layers = nn.Sequential(\n",
    "            nn.Linear(input_shape, 32),\n",
    "            nn.ELU(),\n",
    "            nn.Linear(32, 64),\n",
    "            nn.ELU(),\n",
    "            nn.Linear(64, 1),\n",
    "        )\n",
    "\n",
    "    def forward(self, x):\n",
    "        return self.layers(x)"
   ],
   "metadata": {
    "collapsed": false
   }
  },
  {
   "cell_type": "code",
   "execution_count": 36,
   "outputs": [],
   "source": [
    "model = torch.load(f'{MODEL_PATH}')"
   ],
   "metadata": {
    "collapsed": false
   }
  },
  {
   "cell_type": "code",
   "execution_count": 37,
   "outputs": [],
   "source": [
    "test_df = pd.read_csv(f'{TEST_PATH}')"
   ],
   "metadata": {
    "collapsed": false
   }
  },
  {
   "cell_type": "code",
   "execution_count": 38,
   "outputs": [],
   "source": [
    "def clean(data):\n",
    "    le = LabelEncoder()\n",
    "\n",
    "    # Replace str by int using LabelEncoder\n",
    "    data_le = copy.deepcopy(data)\n",
    "    cols = ['attribute_0', 'attribute_1', 'product_code']\n",
    "    for col in cols:\n",
    "        data_le[col] = le.fit_transform(data[col])\n",
    "\n",
    "    data_le = data_le.drop(['id', 'product_code'], axis=1)\n",
    "\n",
    "    # filled missing values\n",
    "    imputer = SimpleImputer(strategy='mean')\n",
    "    final_data = pd.DataFrame(imputer.fit_transform(data_le))\n",
    "\n",
    "    final_data.columns = data_le.columns\n",
    "\n",
    "    return final_data"
   ],
   "metadata": {
    "collapsed": false
   }
  },
  {
   "cell_type": "code",
   "execution_count": 39,
   "outputs": [
    {
     "data": {
      "text/plain": "   loading  attribute_0  attribute_1  attribute_2  attribute_3  measurement_0  \\\n0   119.57          0.0          1.0          6.0          4.0            6.0   \n1   113.51          0.0          1.0          6.0          4.0           11.0   \n2   112.16          0.0          1.0          6.0          4.0            8.0   \n3   112.72          0.0          1.0          6.0          4.0            8.0   \n4   208.00          0.0          1.0          6.0          4.0           14.0   \n\n   measurement_1  measurement_2  measurement_3  measurement_4  ...  \\\n0            9.0            6.0         19.305         10.178  ...   \n1            8.0            0.0         17.883         11.927  ...   \n2           12.0            4.0         18.475         10.481  ...   \n3           11.0           10.0         16.518         10.888  ...   \n4           16.0            8.0         17.808         12.693  ...   \n\n   measurement_8  measurement_9  measurement_10  measurement_11  \\\n0         18.654         10.802          15.909       18.070000   \n1         19.368         12.032          13.998       18.846571   \n2         17.774         11.743          17.046       18.086000   \n3         18.948         11.790          18.165       16.163000   \n4         19.141         12.370          14.578       17.849000   \n\n   measurement_12  measurement_13  measurement_14  measurement_15  \\\n0          13.772          13.659          16.825          13.742   \n1          12.473          17.468          16.708          14.776   \n2          10.907          13.363          15.737          17.065   \n3          10.933          15.501          15.667          12.620   \n4          11.941          16.070          16.183          13.324   \n\n   measurement_16  measurement_17  \n0          17.710         634.612  \n1          14.102         537.037  \n2          16.021         658.995  \n3          16.111         594.301  \n4          17.150         801.044  \n\n[5 rows x 23 columns]",
      "text/html": "<div>\n<style scoped>\n    .dataframe tbody tr th:only-of-type {\n        vertical-align: middle;\n    }\n\n    .dataframe tbody tr th {\n        vertical-align: top;\n    }\n\n    .dataframe thead th {\n        text-align: right;\n    }\n</style>\n<table border=\"1\" class=\"dataframe\">\n  <thead>\n    <tr style=\"text-align: right;\">\n      <th></th>\n      <th>loading</th>\n      <th>attribute_0</th>\n      <th>attribute_1</th>\n      <th>attribute_2</th>\n      <th>attribute_3</th>\n      <th>measurement_0</th>\n      <th>measurement_1</th>\n      <th>measurement_2</th>\n      <th>measurement_3</th>\n      <th>measurement_4</th>\n      <th>...</th>\n      <th>measurement_8</th>\n      <th>measurement_9</th>\n      <th>measurement_10</th>\n      <th>measurement_11</th>\n      <th>measurement_12</th>\n      <th>measurement_13</th>\n      <th>measurement_14</th>\n      <th>measurement_15</th>\n      <th>measurement_16</th>\n      <th>measurement_17</th>\n    </tr>\n  </thead>\n  <tbody>\n    <tr>\n      <th>0</th>\n      <td>119.57</td>\n      <td>0.0</td>\n      <td>1.0</td>\n      <td>6.0</td>\n      <td>4.0</td>\n      <td>6.0</td>\n      <td>9.0</td>\n      <td>6.0</td>\n      <td>19.305</td>\n      <td>10.178</td>\n      <td>...</td>\n      <td>18.654</td>\n      <td>10.802</td>\n      <td>15.909</td>\n      <td>18.070000</td>\n      <td>13.772</td>\n      <td>13.659</td>\n      <td>16.825</td>\n      <td>13.742</td>\n      <td>17.710</td>\n      <td>634.612</td>\n    </tr>\n    <tr>\n      <th>1</th>\n      <td>113.51</td>\n      <td>0.0</td>\n      <td>1.0</td>\n      <td>6.0</td>\n      <td>4.0</td>\n      <td>11.0</td>\n      <td>8.0</td>\n      <td>0.0</td>\n      <td>17.883</td>\n      <td>11.927</td>\n      <td>...</td>\n      <td>19.368</td>\n      <td>12.032</td>\n      <td>13.998</td>\n      <td>18.846571</td>\n      <td>12.473</td>\n      <td>17.468</td>\n      <td>16.708</td>\n      <td>14.776</td>\n      <td>14.102</td>\n      <td>537.037</td>\n    </tr>\n    <tr>\n      <th>2</th>\n      <td>112.16</td>\n      <td>0.0</td>\n      <td>1.0</td>\n      <td>6.0</td>\n      <td>4.0</td>\n      <td>8.0</td>\n      <td>12.0</td>\n      <td>4.0</td>\n      <td>18.475</td>\n      <td>10.481</td>\n      <td>...</td>\n      <td>17.774</td>\n      <td>11.743</td>\n      <td>17.046</td>\n      <td>18.086000</td>\n      <td>10.907</td>\n      <td>13.363</td>\n      <td>15.737</td>\n      <td>17.065</td>\n      <td>16.021</td>\n      <td>658.995</td>\n    </tr>\n    <tr>\n      <th>3</th>\n      <td>112.72</td>\n      <td>0.0</td>\n      <td>1.0</td>\n      <td>6.0</td>\n      <td>4.0</td>\n      <td>8.0</td>\n      <td>11.0</td>\n      <td>10.0</td>\n      <td>16.518</td>\n      <td>10.888</td>\n      <td>...</td>\n      <td>18.948</td>\n      <td>11.790</td>\n      <td>18.165</td>\n      <td>16.163000</td>\n      <td>10.933</td>\n      <td>15.501</td>\n      <td>15.667</td>\n      <td>12.620</td>\n      <td>16.111</td>\n      <td>594.301</td>\n    </tr>\n    <tr>\n      <th>4</th>\n      <td>208.00</td>\n      <td>0.0</td>\n      <td>1.0</td>\n      <td>6.0</td>\n      <td>4.0</td>\n      <td>14.0</td>\n      <td>16.0</td>\n      <td>8.0</td>\n      <td>17.808</td>\n      <td>12.693</td>\n      <td>...</td>\n      <td>19.141</td>\n      <td>12.370</td>\n      <td>14.578</td>\n      <td>17.849000</td>\n      <td>11.941</td>\n      <td>16.070</td>\n      <td>16.183</td>\n      <td>13.324</td>\n      <td>17.150</td>\n      <td>801.044</td>\n    </tr>\n  </tbody>\n</table>\n<p>5 rows × 23 columns</p>\n</div>"
     },
     "execution_count": 39,
     "metadata": {},
     "output_type": "execute_result"
    }
   ],
   "source": [
    "test_df_clean = clean(test_df)\n",
    "\n",
    "test_df_clean.head(5)"
   ],
   "metadata": {
    "collapsed": false
   }
  },
  {
   "cell_type": "code",
   "execution_count": 40,
   "outputs": [],
   "source": [
    "class TaskDataset(Dataset):\n",
    "    def __init__(self, data, return_y=True):\n",
    "        self.data = data\n",
    "        self.return_y = return_y\n",
    "\n",
    "    def __getitem__(self, index):\n",
    "        if self.return_y == True:\n",
    "            x = self.data[index][:-1]\n",
    "            y = self.data[index][-1]\n",
    "            return torch.FloatTensor(x), torch.FloatTensor(torch.from_numpy(np.array(y, dtype=np.float32)))\n",
    "        else:\n",
    "            x = self.data[index]\n",
    "            return torch.FloatTensor(x)\n",
    "\n",
    "    def __len__(self):\n",
    "        return len(self.data)"
   ],
   "metadata": {
    "collapsed": false
   }
  },
  {
   "cell_type": "markdown",
   "source": [
    "## Predict"
   ],
   "metadata": {
    "collapsed": false
   }
  },
  {
   "cell_type": "code",
   "execution_count": 41,
   "outputs": [
    {
     "name": "stdout",
     "output_type": "stream",
     "text": [
      "test num:  20775\n"
     ]
    },
    {
     "name": "stderr",
     "output_type": "stream",
     "text": [
      "100%|██████████| 20775/20775 [00:06<00:00, 3371.47it/s]\n"
     ]
    },
    {
     "data": {
      "text/plain": "          id   failure\n0      26570  0.193677\n1      26571  0.116830\n2      26572  0.179400\n3      26573  0.195811\n4      26574  0.308730\n...      ...       ...\n20770  47340  0.226949\n20771  47341  0.130701\n20772  47342  0.099486\n20773  47343  0.205068\n20774  47344  0.162456\n\n[20775 rows x 2 columns]",
      "text/html": "<div>\n<style scoped>\n    .dataframe tbody tr th:only-of-type {\n        vertical-align: middle;\n    }\n\n    .dataframe tbody tr th {\n        vertical-align: top;\n    }\n\n    .dataframe thead th {\n        text-align: right;\n    }\n</style>\n<table border=\"1\" class=\"dataframe\">\n  <thead>\n    <tr style=\"text-align: right;\">\n      <th></th>\n      <th>id</th>\n      <th>failure</th>\n    </tr>\n  </thead>\n  <tbody>\n    <tr>\n      <th>0</th>\n      <td>26570</td>\n      <td>0.193677</td>\n    </tr>\n    <tr>\n      <th>1</th>\n      <td>26571</td>\n      <td>0.116830</td>\n    </tr>\n    <tr>\n      <th>2</th>\n      <td>26572</td>\n      <td>0.179400</td>\n    </tr>\n    <tr>\n      <th>3</th>\n      <td>26573</td>\n      <td>0.195811</td>\n    </tr>\n    <tr>\n      <th>4</th>\n      <td>26574</td>\n      <td>0.308730</td>\n    </tr>\n    <tr>\n      <th>...</th>\n      <td>...</td>\n      <td>...</td>\n    </tr>\n    <tr>\n      <th>20770</th>\n      <td>47340</td>\n      <td>0.226949</td>\n    </tr>\n    <tr>\n      <th>20771</th>\n      <td>47341</td>\n      <td>0.130701</td>\n    </tr>\n    <tr>\n      <th>20772</th>\n      <td>47342</td>\n      <td>0.099486</td>\n    </tr>\n    <tr>\n      <th>20773</th>\n      <td>47343</td>\n      <td>0.205068</td>\n    </tr>\n    <tr>\n      <th>20774</th>\n      <td>47344</td>\n      <td>0.162456</td>\n    </tr>\n  </tbody>\n</table>\n<p>20775 rows × 2 columns</p>\n</div>"
     },
     "execution_count": 41,
     "metadata": {},
     "output_type": "execute_result"
    }
   ],
   "source": [
    "test_data = test_df_clean.to_numpy()\n",
    "test_ds = TaskDataset(test_data, return_y=False)\n",
    "print(\"test num: \", test_ds.__len__())\n",
    "test_dl = DataLoader(\n",
    "    test_ds,\n",
    "    batch_size=1,\n",
    "    num_workers=0,\n",
    "    drop_last=False,\n",
    "    shuffle=False)\n",
    "\n",
    "model.eval()\n",
    "pred = []\n",
    "for x in tqdm(test_dl):\n",
    "    x = x.to(device)\n",
    "    y_pred = model(x)\n",
    "    output = torch.sigmoid(y_pred)\n",
    "    output = output.cpu().detach().numpy()\n",
    "    for i in range(len(output)):\n",
    "        pred.append(output[i][0])\n",
    "result = pd.DataFrame({'id': test_df['id'], 'failure': pred})\n",
    "result.to_csv('submission_p.csv', index=0)\n",
    "result"
   ],
   "metadata": {
    "collapsed": false
   }
  }
 ],
 "metadata": {
  "kernelspec": {
   "display_name": "Python 3",
   "language": "python",
   "name": "python3"
  },
  "language_info": {
   "codemirror_mode": {
    "name": "ipython",
    "version": 2
   },
   "file_extension": ".py",
   "mimetype": "text/x-python",
   "name": "python",
   "nbconvert_exporter": "python",
   "pygments_lexer": "ipython2",
   "version": "2.7.6"
  }
 },
 "nbformat": 4,
 "nbformat_minor": 0
}
